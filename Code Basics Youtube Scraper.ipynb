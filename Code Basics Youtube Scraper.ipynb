{
 "cells": [
  {
   "cell_type": "code",
   "execution_count": null,
   "id": "bb391444",
   "metadata": {
    "scrolled": true
   },
   "outputs": [],
   "source": [
    "from selenium import webdriver\n",
    "import csv\n",
    "import datetime\n",
    "import time\n",
    "\n",
    "def check_views():\n",
    "    URL = 'https://www.youtube.com/c/codebasics/videos?view=0&sort=p&flow=grid'\n",
    "\n",
    "    driver = webdriver.Chrome(r\"C:\\Users\\14074\\Python\\chromedriver\")\n",
    "    driver.get(URL)\n",
    "\n",
    "    videos = driver.find_elements_by_class_name('style-scope ytd-grid-video-renderer')\n",
    "\n",
    "\n",
    "    for video in videos:\n",
    "        title = video.find_element_by_xpath('.//*[@id=\"video-title\"]').text\n",
    "        views= video.find_element_by_xpath('.//*[@id=\"metadata-line\"]/span[1]').text\n",
    "        time_ago = video.find_element_by_xpath('.//*[@id=\"metadata-line\"]/span[2]').text\n",
    "        today = datetime.date.today()\n",
    "            \n",
    "        data = [title, views, time_ago, today]\n",
    "\n",
    "        with open('CodeBasicsYTScraper.csv', 'a+', newline='', encoding='UTF8') as f:\n",
    "            writer = csv.writer(f)\n",
    "            writer.writerow(data)\n",
    "\n",
    "while (True):\n",
    "    check_views()\n",
    "    time.sleep(86400)\n",
    "    \n"
   ]
  },
  {
   "cell_type": "code",
   "execution_count": 53,
   "id": "a2d0f7ed",
   "metadata": {
    "scrolled": true
   },
   "outputs": [],
   "source": []
  },
  {
   "cell_type": "code",
   "execution_count": null,
   "id": "91358f7a",
   "metadata": {},
   "outputs": [],
   "source": []
  },
  {
   "cell_type": "code",
   "execution_count": null,
   "id": "5bf4498f",
   "metadata": {},
   "outputs": [],
   "source": []
  }
 ],
 "metadata": {
  "kernelspec": {
   "display_name": "Python 3 (ipykernel)",
   "language": "python",
   "name": "python3"
  },
  "language_info": {
   "codemirror_mode": {
    "name": "ipython",
    "version": 3
   },
   "file_extension": ".py",
   "mimetype": "text/x-python",
   "name": "python",
   "nbconvert_exporter": "python",
   "pygments_lexer": "ipython3",
   "version": "3.9.6"
  }
 },
 "nbformat": 4,
 "nbformat_minor": 5
}
